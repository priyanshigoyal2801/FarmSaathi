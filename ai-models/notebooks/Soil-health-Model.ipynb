{
 "cells": [
  {
   "cell_type": "code",
   "execution_count": 4,
   "metadata": {
    "_cell_guid": "b1076dfc-b9ad-4769-8c92-a6c4dae69d19",
    "_uuid": "8f2839f25d086af736a60e9eeb907d3b93b6e0e5",
    "execution": {
     "iopub.execute_input": "2025-05-03T19:30:18.659613Z",
     "iopub.status.busy": "2025-05-03T19:30:18.658949Z",
     "iopub.status.idle": "2025-05-03T19:30:18.663667Z",
     "shell.execute_reply": "2025-05-03T19:30:18.662875Z",
     "shell.execute_reply.started": "2025-05-03T19:30:18.659586Z"
    },
    "trusted": true
   },
   "outputs": [],
   "source": [
    "import pandas as pd\n",
    "from sklearn.model_selection import train_test_split\n",
    "from sklearn.preprocessing import OrdinalEncoder\n",
    "from sklearn.ensemble import RandomForestClassifier\n",
    "from sklearn.metrics import accuracy_score"
   ]
  },
  {
   "cell_type": "code",
   "execution_count": null,
   "metadata": {
    "execution": {
     "iopub.execute_input": "2025-05-03T19:35:48.684141Z",
     "iopub.status.busy": "2025-05-03T19:35:48.683569Z",
     "iopub.status.idle": "2025-05-03T19:35:48.950728Z",
     "shell.execute_reply": "2025-05-03T19:35:48.950034Z",
     "shell.execute_reply.started": "2025-05-03T19:35:48.684114Z"
    },
    "trusted": true
   },
   "outputs": [
    {
     "name": "stdout",
     "output_type": "stream",
     "text": [
      "Overall Accuracy: 0.08\n",
      "\n",
      "Example Predictions:\n",
      "Actual: Turmeric, Predicted: Ginger\n",
      "Actual: Fenugreek, Predicted: Coriander\n",
      "Actual: Ginger, Predicted: Turmeric\n",
      "Actual: Cashew, Predicted: Betel Nut\n",
      "Actual: Cluster Bean, Predicted: Mustard\n"
     ]
    }
   ],
   "source": [
    "# Load dataset\n",
    "data = pd.read_csv('/kaggle/input/soil-health-card/SoilHealthCardFinalDataset.csv')\n",
    "\n",
    "# Drop irrelevant columns\n",
    "data = data.drop(['id', 'local_crop_name'], axis=1)\n",
    "\n",
    "# Separate features and target\n",
    "X = data.drop('recommended_crop', axis=1)\n",
    "y = data['recommended_crop']\n",
    "\n",
    "# Split data into train and test sets\n",
    "X_train, X_test, y_train, y_test = train_test_split(X, y, test_size=0.1, random_state=48)\n",
    "\n",
    "# Encode categorical features (handle unseen categories)\n",
    "categorical_cols = X.select_dtypes(include=['object']).columns\n",
    "encoder = OrdinalEncoder(handle_unknown='use_encoded_value', unknown_value=-1)\n",
    "X_train[categorical_cols] = encoder.fit_transform(X_train[categorical_cols])\n",
    "X_test[categorical_cols] = encoder.transform(X_test[categorical_cols])\n",
    "\n",
    "# Train Random Forest model\n",
    "model = RandomForestClassifier(random_state=48)\n",
    "model.fit(X_train, y_train)\n",
    "\n",
    "# Predict and evaluate\n",
    "y_pred = model.predict(X_test)\n",
    "accuracy = accuracy_score(y_test, y_pred)"
   ]
  },
  {
   "cell_type": "code",
   "execution_count": null,
   "metadata": {
    "trusted": true
   },
   "outputs": [],
   "source": []
  }
 ],
 "metadata": {
  "kaggle": {
   "accelerator": "none",
   "dataSources": [
    {
     "datasetId": 7320764,
     "sourceId": 11664829,
     "sourceType": "datasetVersion"
    }
   ],
   "dockerImageVersionId": 31012,
   "isGpuEnabled": false,
   "isInternetEnabled": true,
   "language": "python",
   "sourceType": "notebook"
  },
  "kernelspec": {
   "display_name": "Python 3",
   "language": "python",
   "name": "python3"
  },
  "language_info": {
   "codemirror_mode": {
    "name": "ipython",
    "version": 3
   },
   "file_extension": ".py",
   "mimetype": "text/x-python",
   "name": "python",
   "nbconvert_exporter": "python",
   "pygments_lexer": "ipython3",
   "version": "3.11.11"
  }
 },
 "nbformat": 4,
 "nbformat_minor": 4
}
